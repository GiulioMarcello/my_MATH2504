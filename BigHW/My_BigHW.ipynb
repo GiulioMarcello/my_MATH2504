{
 "cells": [
  {
   "cell_type": "markdown",
   "metadata": {},
   "source": [
    "# BigHW | MATH2504 (2022 S2)\n",
    "by Giulio Marcello (s.n.: 46720203) and …"
   ]
  },
  {
   "cell_type": "markdown",
   "metadata": {},
   "source": [
    "## Question 1: LaTex, Jupyter, HTML, and Markdown"
   ]
  },
  {
   "cell_type": "markdown",
   "metadata": {},
   "source": [
    "### 1a.\n",
    "Use LaTeX to write a version of the continued fraction formula for the golden ratio $\\varphi$ with four nested levels:"
   ]
  },
  {
   "cell_type": "markdown",
   "metadata": {},
   "source": [
    "$$ \\varphi = 1+ \\frac {1}{1+ \\frac {1}{1+ \\frac {1}{1+ \\frac {1}{1+ \\ddots}}}} $$"
   ]
  },
  {
   "cell_type": "markdown",
   "metadata": {},
   "source": [
    "### 1b.\n",
    "Use Markdown to write an ordered list of your 5 favorite books. Add (Markdown) hyperlinks to each of the books."
   ]
  },
  {
   "cell_type": "code",
   "execution_count": null,
   "metadata": {},
   "outputs": [],
   "source": []
  }
 ],
 "metadata": {
  "kernelspec": {
   "display_name": "Julia 1.7.3",
   "language": "julia",
   "name": "julia-1.7"
  },
  "language_info": {
   "file_extension": ".jl",
   "mimetype": "application/julia",
   "name": "julia",
   "version": "1.7.3"
  }
 },
 "nbformat": 4,
 "nbformat_minor": 4
}
